{
  "nbformat": 4,
  "nbformat_minor": 0,
  "metadata": {
    "accelerator": "GPU",
    "colab": {
      "name": "Poor_Man's_GPT-3-v2.ipynb",
      "provenance": [],
      "collapsed_sections": []
    },
    "kernelspec": {
      "display_name": "Python 3",
      "language": "python",
      "name": "python3"
    },
    "language_info": {
      "codemirror_mode": {
        "name": "ipython",
        "version": 3
      },
      "file_extension": ".py",
      "mimetype": "text/x-python",
      "name": "python",
      "nbconvert_exporter": "python",
      "pygments_lexer": "ipython3",
      "version": "3.7.5"
    }
  },
  "cells": [
    {
      "cell_type": "code",
      "metadata": {
        "id": "NdzC6I_5kOPZ"
      },
      "source": [
        "#! git clone https://github.com/kaiweic/Poor-man-s-GPT-3.git"
      ],
      "execution_count": 1,
      "outputs": []
    },
    {
      "cell_type": "code",
      "metadata": {
        "id": "6r-ZeE9dkOPc"
      },
      "source": [
        "import os,sys,time,math,textwrap\n",
        "\n",
        "import numpy as np\n",
        "\n",
        "import torch\n",
        "import torch.nn as nn\n",
        "\n",
        "sys.path.append('Poor-man-s-GPT-3')\n",
        "import dataset, datasetxl, transformerxl, transformer\n",
        "\n",
        "root = 'Poor-man-s-GPT-3/data/wikitext-2'"
      ],
      "execution_count": 2,
      "outputs": []
    },
    {
      "cell_type": "code",
      "metadata": {
        "id": "h5Qh7HHkkOPf"
      },
      "source": [
        "lr = .00025\n",
        "context = 150\n",
        "batch_size = 32\n",
        "log_interval = 50\n",
        "\n",
        "stage = 'd'\n",
        "\n",
        "if stage == 'c':\n",
        "    heads = 10\n",
        "    depth = 16\n",
        "    epochs = 10\n",
        "    dropout = 0\n",
        "    dropoutio = 0\n",
        "    k = 40\n",
        "elif stage == 'b':\n",
        "    heads = 2\n",
        "    depth = 2\n",
        "    epochs = 10\n",
        "    dropout = 0\n",
        "    dropoutio = 0\n",
        "    k = 40\n",
        "elif stage == 'd':\n",
        "    heads = 8\n",
        "    depth = 12\n",
        "    epochs = 80  \n",
        "    dropout = 0.2\n",
        "    dropoutio = 0.6\n",
        "    k = 64\n",
        "\n",
        "torch.manual_seed(0)\n",
        "device = torch.device(\"cuda\")"
      ],
      "execution_count": 17,
      "outputs": []
    },
    {
      "cell_type": "code",
      "metadata": {
        "id": "qNPNZHNxkOPj"
      },
      "source": [
        "train_data = datasetxl.WikiText2(root, context, batch_size, dataset.DatasetSplit.train)\n",
        "valid_data = datasetxl.WikiText2(root, context, batch_size, dataset.DatasetSplit.valid)\n",
        "test_data = datasetxl.WikiText2(root, context, batch_size, dataset.DatasetSplit.test)"
      ],
      "execution_count": 18,
      "outputs": []
    },
    {
      "cell_type": "code",
      "metadata": {
        "id": "g2y7x1dnkOPn"
      },
      "source": [
        "def evaluate(data):\n",
        "    model.eval()\n",
        "    #model.reset_memory()\n",
        "    with torch.no_grad():\n",
        "        loss = 0.\n",
        "        loader = torch.utils.data.DataLoader(dataset=data,batch_size=batch_size,shuffle=False)\n",
        "        for i, (x,y) in enumerate(loader):\n",
        "            #if (x.shape[1] == 0): continue\n",
        "            x, y = x.permute(1,0).to(device), y.permute(1,0).to(device)\n",
        "            # print('x, y', x.shape, y.shape)\n",
        "            model_x = model(x)\n",
        "            # print('model(x), word_count', model_x.shape, train_data.word_count())\n",
        "            yhat = model_x.contiguous().view(-1, train_data.word_count())\n",
        "            loss += criterion(yhat, y.contiguous().view(-1))\n",
        "            #print(loss)\n",
        "            #print(x.shape, y.shape)\n",
        "            #print(x)\n",
        "            #print(y)\n",
        "            #print(\"------------\")\n",
        "\n",
        "    print()\n",
        "    model.train()\n",
        "    return loss / len(loader)"
      ],
      "execution_count": 19,
      "outputs": []
    },
    {
      "cell_type": "code",
      "metadata": {
        "colab": {
          "base_uri": "https://localhost:8080/"
        },
        "id": "kgVkIBC8kOPp",
        "outputId": "c3a40706-40ad-4270-93a5-1a1ecbfa22cf"
      },
      "source": [
        "#model = transformerxl.Transformer(context, train_data.word_count(), 400, k, 900, heads, depth, tied_weights=True, dropout=dropout, dropoutio=dropoutio, max_mem_length=1).to(device)\n",
        "model = transformer.Transformer(context, train_data.word_count(), 400, k, 900, heads, depth, tied_weights=True, dropout=dropout, dropoutio=dropoutio).to(device)\n",
        "count = sum([np.prod(parm.shape) for parm in model.parameters() if parm.requires_grad])\n",
        "print('Initialized graph with {} parameters'.format(count))"
      ],
      "execution_count": 15,
      "outputs": [
        {
          "output_type": "stream",
          "text": [
            "Initialized graph with 34308703 parameters\n"
          ],
          "name": "stdout"
        }
      ]
    },
    {
      "cell_type": "code",
      "metadata": {
        "colab": {
          "base_uri": "https://localhost:8080/"
        },
        "id": "uOZCjRwZkOPr",
        "outputId": "92792de9-ad79-4378-d25f-317aad4aafb1"
      },
      "source": [
        "criterion = nn.NLLLoss()\n",
        "curr_lr = .0001\n",
        "clip = .25\n",
        "best_val_loss = None\n",
        "save = 'model.pt'\n",
        "\n",
        "train_loader = torch.utils.data.DataLoader(dataset=train_data,batch_size=batch_size,shuffle=False) # TODO: check again, i guess\n",
        "print('Initiating training, {} iterations/epoch.'.format(len(train_loader)))\n",
        "\n",
        "try:\n",
        "    optimizer = torch.optim.Adam(model.parameters(), lr=curr_lr)\n",
        "    for epoch in range(epochs):\n",
        "        t0 = time.time()\n",
        "        print('epoch', epoch)\n",
        "        val_loss = evaluate(valid_data)\n",
        "        print('-' * 100)\n",
        "        print('| checkpoint | epoch {:3d} | time: {:5.2f}s | validation loss {:5.2f} | '\n",
        "                'validation perplexity {:8.2f}'.format(epoch, (time.time() - t0),\n",
        "                                                       val_loss, math.exp(val_loss)))\n",
        "        print('-' * 100)\n",
        "        print('epoch\\t\\tms/batch\\tlr\\tloss\\tperplexity')\n",
        "\n",
        "        if not best_val_loss or val_loss < best_val_loss:\n",
        "            with open(save, 'wb') as f:\n",
        "                torch.save(model, f)\n",
        "            best_val_loss = val_loss\n",
        "\n",
        "        model.train()\n",
        "        #model.reset_memory()\n",
        "        total_loss = 0.\n",
        "        t0 = time.time()\n",
        "        if epoch == 1: optimizer.param_groups[0]['lr'] = curr_lr = lr # finished warmup\n",
        "        for i, (x,y) in enumerate(train_loader):\n",
        "            #print(x.shape, y.shape)\n",
        "            #print(x)\n",
        "            #print(y)\n",
        "            #\"------------------\"\n",
        "            #if (x.shape[1] == 0): continue\n",
        "            if i % log_interval == 0 and i > 0:\n",
        "                cur_loss = total_loss / log_interval\n",
        "                elapsed = time.time() - t0\n",
        "                print('{:3d} ({:2.1f}%)\\t{:5.2f}\\t\\t{:1.3}\\t{:5.2f}\\t{:8.2f}'.format(\n",
        "                    epoch, 100*i/float(len(train_loader)),\n",
        "                    elapsed * 1000 / log_interval, curr_lr, cur_loss, math.exp(cur_loss)))\n",
        "                total_loss = 0\n",
        "                t0 = time.time()\n",
        "\n",
        "            x, y = x.permute(1,0).to(device), y.permute(1,0).to(device)\n",
        "            model.zero_grad()\n",
        "            yhat = model(x).contiguous().view(-1, train_data.word_count())\n",
        "            loss = criterion(yhat, y.contiguous().view(-1))\n",
        "            loss.backward()\n",
        "\n",
        "            torch.nn.utils.clip_grad_norm_(model.parameters(), clip)\n",
        "            optimizer.step()\n",
        "\n",
        "            total_loss += loss.item()\n",
        "\n",
        "except KeyboardInterrupt:\n",
        "    print('Graceful Exit')"
      ],
      "execution_count": 16,
      "outputs": [
        {
          "output_type": "stream",
          "text": [
            "Initiating training, 326 iterations/epoch.\n",
            "epoch 0\n",
            "\n",
            "----------------------------------------------------------------------------------------------------\n",
            "| checkpoint | epoch   0 | time: 10.42s | validation loss 10.38 | validation perplexity 32196.22\n",
            "----------------------------------------------------------------------------------------------------\n",
            "epoch\t\tms/batch\tlr\tloss\tperplexity\n",
            "  0 (15.3%)\t898.44\t\t0.0001\t 8.82\t 6754.26\n",
            "  0 (30.7%)\t883.91\t\t0.0001\t 7.16\t 1288.07\n",
            "  0 (46.0%)\t898.25\t\t0.0001\t 6.59\t  730.49\n",
            "  0 (61.3%)\t891.19\t\t0.0001\t 6.35\t  571.00\n",
            "  0 (76.7%)\t896.19\t\t0.0001\t 6.16\t  474.36\n",
            "  0 (92.0%)\t891.55\t\t0.0001\t 6.02\t  411.82\n",
            "epoch 1\n",
            "\n",
            "----------------------------------------------------------------------------------------------------\n",
            "| checkpoint | epoch   1 | time: 11.07s | validation loss  6.25 | validation perplexity   518.49\n",
            "----------------------------------------------------------------------------------------------------\n",
            "epoch\t\tms/batch\tlr\tloss\tperplexity\n",
            "  1 (15.3%)\t889.10\t\t0.00025\t 5.83\t  341.16\n",
            "Graceful Exit\n"
          ],
          "name": "stdout"
        }
      ]
    },
    {
      "cell_type": "code",
      "metadata": {
        "id": "hoJQgTYskOPu",
        "colab": {
          "base_uri": "https://localhost:8080/",
          "height": 249
        },
        "outputId": "3ed60259-e1d7-42e7-cad8-040cdfac0af9"
      },
      "source": [
        "print('Restoring best checkpointed model...')\n",
        "with open(save, 'rb') as f:\n",
        "    model = torch.load(f)\n",
        "\n",
        "test_loss = evaluate(test_data)\n",
        "print('=' * 89)\n",
        "print('| end of training | test loss {:5.2f} | test perplexity {:8.2f}'.format(test_loss, math.exp(test_loss)))\n",
        "print('=' * 89)"
      ],
      "execution_count": 8,
      "outputs": [
        {
          "output_type": "stream",
          "text": [
            "Restoring best checkpointed model...\n"
          ],
          "name": "stdout"
        },
        {
          "output_type": "error",
          "ename": "FileNotFoundError",
          "evalue": "ignored",
          "traceback": [
            "\u001b[0;31m---------------------------------------------------------------------------\u001b[0m",
            "\u001b[0;31mFileNotFoundError\u001b[0m                         Traceback (most recent call last)",
            "\u001b[0;32m<ipython-input-8-86e7a5e3fd8f>\u001b[0m in \u001b[0;36m<module>\u001b[0;34m()\u001b[0m\n\u001b[1;32m      1\u001b[0m \u001b[0mprint\u001b[0m\u001b[0;34m(\u001b[0m\u001b[0;34m'Restoring best checkpointed model...'\u001b[0m\u001b[0;34m)\u001b[0m\u001b[0;34m\u001b[0m\u001b[0;34m\u001b[0m\u001b[0m\n\u001b[0;32m----> 2\u001b[0;31m \u001b[0;32mwith\u001b[0m \u001b[0mopen\u001b[0m\u001b[0;34m(\u001b[0m\u001b[0msave\u001b[0m\u001b[0;34m,\u001b[0m \u001b[0;34m'rb'\u001b[0m\u001b[0;34m)\u001b[0m \u001b[0;32mas\u001b[0m \u001b[0mf\u001b[0m\u001b[0;34m:\u001b[0m\u001b[0;34m\u001b[0m\u001b[0;34m\u001b[0m\u001b[0m\n\u001b[0m\u001b[1;32m      3\u001b[0m     \u001b[0mmodel\u001b[0m \u001b[0;34m=\u001b[0m \u001b[0mtorch\u001b[0m\u001b[0;34m.\u001b[0m\u001b[0mload\u001b[0m\u001b[0;34m(\u001b[0m\u001b[0mf\u001b[0m\u001b[0;34m)\u001b[0m\u001b[0;34m\u001b[0m\u001b[0;34m\u001b[0m\u001b[0m\n\u001b[1;32m      4\u001b[0m \u001b[0;34m\u001b[0m\u001b[0m\n\u001b[1;32m      5\u001b[0m \u001b[0mtest_loss\u001b[0m \u001b[0;34m=\u001b[0m \u001b[0mevaluate\u001b[0m\u001b[0;34m(\u001b[0m\u001b[0mtest_data\u001b[0m\u001b[0;34m)\u001b[0m\u001b[0;34m\u001b[0m\u001b[0;34m\u001b[0m\u001b[0m\n",
            "\u001b[0;31mFileNotFoundError\u001b[0m: [Errno 2] No such file or directory: 'model.pt'"
          ]
        }
      ]
    },
    {
      "cell_type": "code",
      "metadata": {
        "id": "5Kv3A3evkOPw"
      },
      "source": [
        "print('\\nUncurated samples')\n",
        "print('-' * 89)\n",
        "\n",
        "def sample():\n",
        "    words = []\n",
        "    model.eval()\n",
        "    history = torch.randint(train_data.word_count(), (1, 1), dtype=torch.long).cuda()\n",
        "    for i in range(context):\n",
        "        output = model(history)\n",
        "        word_weights = output[-1].squeeze().exp().cpu()\n",
        "        word_idx = torch.multinomial(word_weights, 1)[0]\n",
        "        word_tensor = torch.Tensor([[word_idx]]).long().cuda()\n",
        "        history = torch.cat([history, word_tensor], 0)\n",
        "\n",
        "        words.append(train_data.idx2word[word_idx])\n",
        "\n",
        "    return '\\n'.join(textwrap.wrap(' '.join(words),80))\n",
        "\n",
        "for i in range(5):\n",
        "    print('({})'.format(i), sample())"
      ],
      "execution_count": null,
      "outputs": []
    },
    {
      "cell_type": "code",
      "metadata": {
        "id": "wlm9ikGokOPy"
      },
      "source": [
        ""
      ],
      "execution_count": null,
      "outputs": []
    }
  ]
}