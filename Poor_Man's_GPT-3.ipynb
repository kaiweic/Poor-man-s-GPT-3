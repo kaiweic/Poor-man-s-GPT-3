{
  "nbformat": 4,
  "nbformat_minor": 0,
  "metadata": {
    "kernelspec": {
      "display_name": "Python 3",
      "language": "python",
      "name": "python3"
    },
    "language_info": {
      "codemirror_mode": {
        "name": "ipython",
        "version": 3
      },
      "file_extension": ".py",
      "mimetype": "text/x-python",
      "name": "python",
      "nbconvert_exporter": "python",
      "pygments_lexer": "ipython3",
      "version": "3.7.5"
    },
    "colab": {
      "name": "Poor Man's GPT3.ipynb",
      "provenance": [],
      "collapsed_sections": []
    },
    "accelerator": "GPU"
  },
  "cells": [
    {
      "cell_type": "code",
      "metadata": {
        "id": "NdzC6I_5kOPZ"
      },
      "source": [
        "# ! git clone https://github.com/jthickstun/gm-hw1"
      ],
      "execution_count": 1,
      "outputs": []
    },
    {
      "cell_type": "code",
      "metadata": {
        "id": "6r-ZeE9dkOPc"
      },
      "source": [
        "import os,sys,time,math,textwrap\n",
        "\n",
        "import numpy as np\n",
        "\n",
        "import torch\n",
        "import torch.nn as nn\n",
        "\n",
        "sys.path.append('gm-hw1')\n",
        "import dataset, transformerxl\n",
        "\n",
        "root = 'gm-hw1/data/wikitext-2'"
      ],
      "execution_count": 2,
      "outputs": []
    },
    {
      "cell_type": "code",
      "metadata": {
        "id": "h5Qh7HHkkOPf"
      },
      "source": [
        "lr = .00035\n",
        "context = 150\n",
        "batch_size = 32\n",
        "log_interval = 50\n",
        "\n",
        "stage = 'd'\n",
        "\n",
        "if stage == 'c':\n",
        "    heads = 10\n",
        "    depth = 16\n",
        "    epochs = 10\n",
        "    dropout = 0\n",
        "    dropoutio = 0\n",
        "elif stage == 'b':\n",
        "    heads = 2\n",
        "    depth = 2\n",
        "    epochs = 10\n",
        "    dropout = 0\n",
        "    dropoutio = 0\n",
        "elif stage == 'd':\n",
        "    heads = 10\n",
        "    depth = 16\n",
        "    epochs = 80\n",
        "    dropout = 0.2\n",
        "    dropoutio = 0.6\n",
        "\n",
        "torch.manual_seed(0)\n",
        "device = torch.device(\"cuda\")"
      ],
      "execution_count": 3,
      "outputs": []
    },
    {
      "cell_type": "code",
      "metadata": {
        "id": "qNPNZHNxkOPj"
      },
      "source": [
        "train_data = dataset.WikiText2(root, context, dataset.DatasetSplit.train)\n",
        "valid_data = dataset.WikiText2(root, context, dataset.DatasetSplit.valid)\n",
        "test_data = dataset.WikiText2(root, context, dataset.DatasetSplit.test)"
      ],
      "execution_count": 4,
      "outputs": []
    },
    {
      "cell_type": "code",
      "metadata": {
        "id": "g2y7x1dnkOPn"
      },
      "source": [
        "def evaluate(data):\n",
        "    model.eval()\n",
        "    model.reset_memory()\n",
        "    with torch.no_grad():\n",
        "        loss = 0.\n",
        "        loader = torch.utils.data.DataLoader(dataset=data,batch_size=batch_size,shuffle=False)\n",
        "        for i, (x,y) in enumerate(loader):\n",
        "            x, y = x.permute(1,0).to(device), y.permute(1,0).to(device)\n",
        "            # print('x, y', x.shape, y.shape)\n",
        "            model_x = model(x)\n",
        "            # print('model(x), word_count', model_x.shape, train_data.word_count())\n",
        "            yhat = model_x.contiguous().view(-1, train_data.word_count())\n",
        "            loss += criterion(yhat, y.contiguous().view(-1))\n",
        "\n",
        "    print()\n",
        "    model.train()\n",
        "    return loss / len(loader)"
      ],
      "execution_count": 5,
      "outputs": []
    },
    {
      "cell_type": "code",
      "metadata": {
        "id": "kgVkIBC8kOPp",
        "colab": {
          "base_uri": "https://localhost:8080/"
        },
        "outputId": "5eee0bf5-5b9a-4752-f94b-7b34573229ce"
      },
      "source": [
        "model = transformerxl.Transformer(context, train_data.word_count(), 400, 40, 900, heads, depth, tied_weights=True, dropout=dropout, dropoutio=dropoutio, max_mem_length=2).to(device)\n",
        "count = sum([np.prod(parm.shape) for parm in model.parameters() if parm.requires_grad])\n",
        "print('Initialized graph with {} parameters'.format(count))"
      ],
      "execution_count": 6,
      "outputs": [
        {
          "output_type": "stream",
          "text": [
            "Initialized graph with 35151279 parameters\n"
          ],
          "name": "stdout"
        }
      ]
    },
    {
      "cell_type": "code",
      "metadata": {
        "id": "uOZCjRwZkOPr",
        "colab": {
          "base_uri": "https://localhost:8080/"
        },
        "outputId": "b5ea63e9-0026-4756-deac-b0b3c0447b62"
      },
      "source": [
        "criterion = nn.NLLLoss()\n",
        "curr_lr = .0001\n",
        "clip = .25\n",
        "best_val_loss = None\n",
        "save = 'model.pt'\n",
        "\n",
        "train_loader = torch.utils.data.DataLoader(dataset=train_data,batch_size=batch_size,shuffle=False)\n",
        "print('Initiating training, {} iterations/epoch.'.format(len(train_loader)))\n",
        "\n",
        "try:\n",
        "    optimizer = torch.optim.Adam(model.parameters(), lr=curr_lr)\n",
        "    for epoch in range(epochs):\n",
        "        t0 = time.time()\n",
        "        print('epoch', epoch)\n",
        "        val_loss = evaluate(valid_data)\n",
        "        print('-' * 100)\n",
        "        print('| checkpoint | epoch {:3d} | time: {:5.2f}s | validation loss {:5.2f} | '\n",
        "                'validation perplexity {:8.2f}'.format(epoch, (time.time() - t0),\n",
        "                                                       val_loss, math.exp(val_loss)))\n",
        "        print('-' * 100)\n",
        "        print('epoch\\t\\tms/batch\\tlr\\tloss\\tperplexity')\n",
        "\n",
        "        if not best_val_loss or val_loss < best_val_loss:\n",
        "            with open(save, 'wb') as f:\n",
        "                torch.save(model, f)\n",
        "            best_val_loss = val_loss\n",
        "\n",
        "        model.train()\n",
        "        model.reset_memory()\n",
        "        total_loss = 0.\n",
        "        t0 = time.time()\n",
        "        if epoch == 1: optimizer.param_groups[0]['lr'] = curr_lr = lr # finished warmup\n",
        "        for i, (x,y) in enumerate(train_loader):\n",
        "            if i % log_interval == 0 and i > 0:\n",
        "                cur_loss = total_loss / log_interval\n",
        "                elapsed = time.time() - t0\n",
        "                print('{:3d} ({:2.1f}%)\\t{:5.2f}\\t\\t{:1.3}\\t{:5.2f}\\t{:8.2f}'.format(\n",
        "                    epoch, 100*i/float(len(train_loader)),\n",
        "                    elapsed * 1000 / log_interval, curr_lr, cur_loss, math.exp(cur_loss)))\n",
        "                total_loss = 0\n",
        "                t0 = time.time()\n",
        "\n",
        "            x, y = x.permute(1,0).to(device), y.permute(1,0).to(device)\n",
        "            model.zero_grad()\n",
        "            yhat = model(x).contiguous().view(-1, train_data.word_count())\n",
        "            loss = criterion(yhat, y.contiguous().view(-1))\n",
        "            loss.backward()\n",
        "\n",
        "            torch.nn.utils.clip_grad_norm_(model.parameters(), clip)\n",
        "            optimizer.step()\n",
        "\n",
        "            total_loss += loss.item()\n",
        "\n",
        "except KeyboardInterrupt:\n",
        "    print('Graceful Exit')"
      ],
      "execution_count": null,
      "outputs": [
        {
          "output_type": "stream",
          "text": [
            "Initiating training, 436 iterations/epoch.\n",
            "epoch 0\n",
            "x torch.Size([150, 10])\n",
            "o torch.Size([150, 10, 33279])\n",
            "\n",
            "----------------------------------------------------------------------------------------------------\n",
            "| checkpoint | epoch   0 | time: 11.55s | validation loss 10.45 | validation perplexity 34526.32\n",
            "----------------------------------------------------------------------------------------------------\n",
            "epoch\t\tms/batch\tlr\tloss\tperplexity\n",
            "  0 (11.5%)\t745.07\t\t0.0001\t 9.11\t 9066.36\n",
            "  0 (22.9%)\t798.97\t\t0.0001\t 7.69\t 2181.30\n",
            "  0 (34.4%)\t774.77\t\t0.0001\t 7.34\t 1534.63\n",
            "  0 (45.9%)\t788.15\t\t0.0001\t 7.30\t 1474.82\n",
            "  0 (57.3%)\t786.08\t\t0.0001\t 7.25\t 1405.33\n",
            "  0 (68.8%)\t788.48\t\t0.0001\t 7.13\t 1249.47\n",
            "  0 (80.3%)\t791.06\t\t0.0001\t 7.03\t 1127.34\n",
            "  0 (91.7%)\t789.52\t\t0.0001\t 7.03\t 1124.90\n",
            "x torch.Size([150, 4])\n",
            "o torch.Size([150, 4, 33279])\n",
            "epoch 1\n",
            "x torch.Size([150, 10])\n",
            "o torch.Size([150, 10, 33279])\n",
            "\n",
            "----------------------------------------------------------------------------------------------------\n",
            "| checkpoint | epoch   1 | time: 12.87s | validation loss  6.48 | validation perplexity   655.08\n",
            "----------------------------------------------------------------------------------------------------\n",
            "epoch\t\tms/batch\tlr\tloss\tperplexity\n",
            "  1 (11.5%)\t781.75\t\t0.00035\t 6.82\t  918.67\n",
            "  1 (22.9%)\t790.25\t\t0.00035\t 6.83\t  925.13\n",
            "  1 (34.4%)\t785.97\t\t0.00035\t 6.76\t  860.83\n",
            "  1 (45.9%)\t786.41\t\t0.00035\t 6.69\t  807.06\n",
            "  1 (57.3%)\t786.72\t\t0.00035\t 6.68\t  798.49\n",
            "  1 (68.8%)\t788.03\t\t0.00035\t 6.65\t  776.51\n",
            "  1 (80.3%)\t787.40\t\t0.00035\t 6.58\t  724.06\n",
            "  1 (91.7%)\t788.80\t\t0.00035\t 6.62\t  746.21\n",
            "x torch.Size([150, 4])\n",
            "o torch.Size([150, 4, 33279])\n",
            "epoch 2\n",
            "x torch.Size([150, 10])\n",
            "o torch.Size([150, 10, 33279])\n",
            "\n",
            "----------------------------------------------------------------------------------------------------\n",
            "| checkpoint | epoch   2 | time: 12.91s | validation loss  6.16 | validation perplexity   474.35\n",
            "----------------------------------------------------------------------------------------------------\n",
            "epoch\t\tms/batch\tlr\tloss\tperplexity\n",
            "  2 (11.5%)\t778.68\t\t0.00035\t 6.45\t  632.72\n",
            "  2 (22.9%)\t789.08\t\t0.00035\t 6.49\t  660.76\n",
            "  2 (34.4%)\t785.96\t\t0.00035\t 6.42\t  615.45\n",
            "  2 (45.9%)\t784.87\t\t0.00035\t 6.37\t  585.68\n"
          ],
          "name": "stdout"
        }
      ]
    },
    {
      "cell_type": "code",
      "metadata": {
        "id": "hoJQgTYskOPu"
      },
      "source": [
        "print('Restoring best checkpointed model...')\n",
        "with open(save, 'rb') as f:\n",
        "    model = torch.load(f)\n",
        "\n",
        "test_loss = evaluate(test_data)\n",
        "print('=' * 89)\n",
        "print('| end of training | test loss {:5.2f} | test perplexity {:8.2f}'.format(test_loss, math.exp(test_loss)))\n",
        "print('=' * 89)"
      ],
      "execution_count": null,
      "outputs": []
    },
    {
      "cell_type": "code",
      "metadata": {
        "id": "5Kv3A3evkOPw"
      },
      "source": [
        "print('\\nUncurated samples')\n",
        "print('-' * 89)\n",
        "\n",
        "def sample():\n",
        "    words = []\n",
        "    model.eval()\n",
        "    history = torch.randint(train_data.word_count(), (1, 1), dtype=torch.long).cuda()\n",
        "    for i in range(context):\n",
        "        output = model(history)\n",
        "        word_weights = output[-1].squeeze().exp().cpu()\n",
        "        word_idx = torch.multinomial(word_weights, 1)[0]\n",
        "        word_tensor = torch.Tensor([[word_idx]]).long().cuda()\n",
        "        history = torch.cat([history, word_tensor], 0)\n",
        "\n",
        "        words.append(train_data.idx2word[word_idx])\n",
        "\n",
        "    return '\\n'.join(textwrap.wrap(' '.join(words),80))\n",
        "\n",
        "for i in range(5):\n",
        "    print('({})'.format(i), sample())"
      ],
      "execution_count": null,
      "outputs": []
    },
    {
      "cell_type": "code",
      "metadata": {
        "id": "wlm9ikGokOPy"
      },
      "source": [
        ""
      ],
      "execution_count": null,
      "outputs": []
    }
  ]
}