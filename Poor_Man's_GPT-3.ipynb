{
  "nbformat": 4,
  "nbformat_minor": 0,
  "metadata": {
    "kernelspec": {
      "display_name": "Python 3",
      "language": "python",
      "name": "python3"
    },
    "language_info": {
      "codemirror_mode": {
        "name": "ipython",
        "version": 3
      },
      "file_extension": ".py",
      "mimetype": "text/x-python",
      "name": "python",
      "nbconvert_exporter": "python",
      "pygments_lexer": "ipython3",
      "version": "3.7.5"
    },
    "colab": {
      "name": "Poor Man's GPT3.ipynb",
      "provenance": [],
      "collapsed_sections": []
    },
    "accelerator": "GPU"
  },
  "cells": [
    {
      "cell_type": "code",
      "metadata": {
        "id": "NdzC6I_5kOPZ"
      },
      "source": [
        "# ! git clone https://github.com/jthickstun/gm-hw1"
      ],
      "execution_count": 1,
      "outputs": []
    },
    {
      "cell_type": "code",
      "metadata": {
        "id": "6r-ZeE9dkOPc"
      },
      "source": [
        "import os,sys,time,math,textwrap\n",
        "\n",
        "import numpy as np\n",
        "\n",
        "import torch\n",
        "import torch.nn as nn\n",
        "\n",
        "sys.path.append('gm-hw1')\n",
        "import dataset, transformerxl\n",
        "\n",
        "root = 'gm-hw1/data/wikitext-2'"
      ],
      "execution_count": 2,
      "outputs": []
    },
    {
      "cell_type": "code",
      "metadata": {
        "id": "h5Qh7HHkkOPf"
      },
      "source": [
        "lr = .00035\n",
        "context = 150\n",
        "batch_size = 32\n",
        "log_interval = 50\n",
        "\n",
        "stage = 'd'\n",
        "\n",
        "if stage == 'c':\n",
        "    heads = 10\n",
        "    depth = 16\n",
        "    epochs = 10\n",
        "    dropout = 0\n",
        "    dropoutio = 0\n",
        "elif stage == 'b':\n",
        "    heads = 2\n",
        "    depth = 2\n",
        "    epochs = 10\n",
        "    dropout = 0\n",
        "    dropoutio = 0\n",
        "elif stage == 'd':\n",
        "    heads = 10\n",
        "    depth = 16\n",
        "    epochs = 80\n",
        "    dropout = 0.2\n",
        "    dropoutio = 0.6\n",
        "\n",
        "torch.manual_seed(0)\n",
        "device = torch.device(\"cuda\")"
      ],
      "execution_count": 3,
      "outputs": []
    },
    {
      "cell_type": "code",
      "metadata": {
        "id": "qNPNZHNxkOPj"
      },
      "source": [
        "train_data = dataset.WikiText2(root, context, dataset.DatasetSplit.train)\n",
        "valid_data = dataset.WikiText2(root, context, dataset.DatasetSplit.valid)\n",
        "test_data = dataset.WikiText2(root, context, dataset.DatasetSplit.test)"
      ],
      "execution_count": 4,
      "outputs": []
    },
    {
      "cell_type": "code",
      "metadata": {
        "id": "g2y7x1dnkOPn"
      },
      "source": [
        "def evaluate(data):\n",
        "    model.eval()\n",
        "    model.reset_memory()\n",
        "    with torch.no_grad():\n",
        "        loss = 0.\n",
        "        loader = torch.utils.data.DataLoader(dataset=data,batch_size=batch_size,shuffle=False)\n",
        "        for i, (x,y) in enumerate(loader):\n",
        "            x, y = x.permute(1,0).to(device), y.permute(1,0).to(device)\n",
        "            print('x, y', x.shape, y.shape)\n",
        "            model_x = model(x)\n",
        "            print('model(x), word_count', model_x.shape, train_data.word_count())\n",
        "            yhat = model_x.contiguous().view(-1, train_data.word_count())\n",
        "            loss += criterion(yhat, y.contiguous().view(-1))\n",
        "\n",
        "    print()\n",
        "    model.train()\n",
        "    return loss / len(loader)"
      ],
      "execution_count": 5,
      "outputs": []
    },
    {
      "cell_type": "code",
      "metadata": {
        "id": "kgVkIBC8kOPp",
        "colab": {
          "base_uri": "https://localhost:8080/"
        },
        "outputId": "e8d03a3c-aa54-42b6-d013-7734122ad63c"
      },
      "source": [
        "model = transformerxl.Transformer(context, train_data.word_count(), 400, 40, 900, heads, depth, tied_weights=True, dropout=dropout, dropoutio=dropoutio, max_mem_length=2).to(device)\n",
        "count = sum([np.prod(parm.shape) for parm in model.parameters() if parm.requires_grad])\n",
        "print('Initialized graph with {} parameters'.format(count))"
      ],
      "execution_count": 6,
      "outputs": [
        {
          "output_type": "stream",
          "text": [
            "Initialized graph with 35211279 parameters\n"
          ],
          "name": "stdout"
        }
      ]
    },
    {
      "cell_type": "code",
      "metadata": {
        "id": "uOZCjRwZkOPr",
        "colab": {
          "base_uri": "https://localhost:8080/",
          "height": 1000
        },
        "outputId": "a0eee878-97d9-4b4d-82f8-b2023bd83106"
      },
      "source": [
        "criterion = nn.NLLLoss()\n",
        "curr_lr = .0001\n",
        "clip = .25\n",
        "best_val_loss = None\n",
        "save = 'model.pt'\n",
        "\n",
        "train_loader = torch.utils.data.DataLoader(dataset=train_data,batch_size=batch_size,shuffle=False)\n",
        "print('Initiating training, {} iterations/epoch.'.format(len(train_loader)))\n",
        "\n",
        "try:\n",
        "    optimizer = torch.optim.Adam(model.parameters(), lr=curr_lr)\n",
        "    for epoch in range(epochs):\n",
        "        t0 = time.time()\n",
        "        print('epoch', epoch)\n",
        "        val_loss = evaluate(valid_data)\n",
        "        print('-' * 100)\n",
        "        print('| checkpoint | epoch {:3d} | time: {:5.2f}s | validation loss {:5.2f} | '\n",
        "                'validation perplexity {:8.2f}'.format(epoch, (time.time() - t0),\n",
        "                                                       val_loss, math.exp(val_loss)))\n",
        "        print('-' * 100)\n",
        "        print('epoch\\t\\tms/batch\\tlr\\tloss\\tperplexity')\n",
        "\n",
        "        if not best_val_loss or val_loss < best_val_loss:\n",
        "            with open(save, 'wb') as f:\n",
        "                torch.save(model, f)\n",
        "            best_val_loss = val_loss\n",
        "\n",
        "        model.train()\n",
        "        model.reset_memory()\n",
        "        total_loss = 0.\n",
        "        t0 = time.time()\n",
        "        if epoch == 1: optimizer.param_groups[0]['lr'] = curr_lr = lr # finished warmup\n",
        "        for i, (x,y) in enumerate(train_loader):\n",
        "            if i % log_interval == 0 and i > 0:\n",
        "                cur_loss = total_loss / log_interval\n",
        "                elapsed = time.time() - t0\n",
        "                print('{:3d} ({:2.1f}%)\\t{:5.2f}\\t\\t{:1.3}\\t{:5.2f}\\t{:8.2f}'.format(\n",
        "                    epoch, 100*i/float(len(train_loader)),\n",
        "                    elapsed * 1000 / log_interval, curr_lr, cur_loss, math.exp(cur_loss)))\n",
        "                total_loss = 0\n",
        "                t0 = time.time()\n",
        "\n",
        "            x, y = x.permute(1,0).to(device), y.permute(1,0).to(device)\n",
        "            model.zero_grad()\n",
        "            yhat = model(x).view(-1, train_data.word_count())\n",
        "            loss = criterion(yhat, y.contiguous().view(-1))\n",
        "            loss.backward()\n",
        "\n",
        "            torch.nn.utils.clip_grad_norm_(model.parameters(), clip)\n",
        "            optimizer.step()\n",
        "\n",
        "            total_loss += loss.item()\n",
        "\n",
        "except KeyboardInterrupt:\n",
        "    print('Graceful Exit')"
      ],
      "execution_count": 7,
      "outputs": [
        {
          "output_type": "stream",
          "text": [
            "Initiating training, 436 iterations/epoch.\n",
            "epoch 0\n",
            "x, y torch.Size([150, 32]) torch.Size([150, 32])\n",
            "model(x), word_count torch.Size([150, 32, 33279]) 33279\n",
            "x, y torch.Size([150, 32]) torch.Size([150, 32])\n",
            "model(x), word_count torch.Size([150, 32, 33279]) 33279\n",
            "x, y torch.Size([150, 32]) torch.Size([150, 32])\n",
            "model(x), word_count torch.Size([150, 32, 33279]) 33279\n",
            "x, y torch.Size([150, 32]) torch.Size([150, 32])\n",
            "model(x), word_count torch.Size([150, 32, 33279]) 33279\n",
            "x, y torch.Size([150, 32]) torch.Size([150, 32])\n",
            "model(x), word_count torch.Size([150, 32, 33279]) 33279\n",
            "x, y torch.Size([150, 32]) torch.Size([150, 32])\n",
            "model(x), word_count torch.Size([150, 32, 33279]) 33279\n",
            "x, y torch.Size([150, 32]) torch.Size([150, 32])\n",
            "model(x), word_count torch.Size([150, 32, 33279]) 33279\n",
            "x, y torch.Size([150, 32]) torch.Size([150, 32])\n",
            "model(x), word_count torch.Size([150, 32, 33279]) 33279\n",
            "x, y torch.Size([150, 32]) torch.Size([150, 32])\n",
            "model(x), word_count torch.Size([150, 32, 33279]) 33279\n",
            "x, y torch.Size([150, 32]) torch.Size([150, 32])\n",
            "model(x), word_count torch.Size([150, 32, 33279]) 33279\n",
            "x, y torch.Size([150, 32]) torch.Size([150, 32])\n",
            "model(x), word_count torch.Size([150, 32, 33279]) 33279\n",
            "x, y torch.Size([150, 32]) torch.Size([150, 32])\n",
            "model(x), word_count torch.Size([150, 32, 33279]) 33279\n",
            "x, y torch.Size([150, 32]) torch.Size([150, 32])\n",
            "model(x), word_count torch.Size([150, 32, 33279]) 33279\n",
            "x, y torch.Size([150, 32]) torch.Size([150, 32])\n",
            "model(x), word_count torch.Size([150, 32, 33279]) 33279\n",
            "x, y torch.Size([150, 32]) torch.Size([150, 32])\n",
            "model(x), word_count torch.Size([150, 32, 33279]) 33279\n",
            "x, y torch.Size([150, 32]) torch.Size([150, 32])\n",
            "model(x), word_count torch.Size([150, 32, 33279]) 33279\n",
            "x, y torch.Size([150, 32]) torch.Size([150, 32])\n",
            "model(x), word_count torch.Size([150, 32, 33279]) 33279\n",
            "x, y torch.Size([150, 32]) torch.Size([150, 32])\n",
            "model(x), word_count torch.Size([150, 32, 33279]) 33279\n",
            "x, y torch.Size([150, 32]) torch.Size([150, 32])\n",
            "model(x), word_count torch.Size([150, 32, 33279]) 33279\n",
            "x, y torch.Size([150, 32]) torch.Size([150, 32])\n",
            "model(x), word_count torch.Size([150, 32, 33279]) 33279\n",
            "x, y torch.Size([150, 32]) torch.Size([150, 32])\n",
            "model(x), word_count torch.Size([150, 32, 33279]) 33279\n",
            "x, y torch.Size([150, 32]) torch.Size([150, 32])\n",
            "model(x), word_count torch.Size([150, 32, 33279]) 33279\n",
            "x, y torch.Size([150, 32]) torch.Size([150, 32])\n",
            "model(x), word_count torch.Size([150, 32, 33279]) 33279\n",
            "x, y torch.Size([150, 32]) torch.Size([150, 32])\n",
            "model(x), word_count torch.Size([150, 32, 33279]) 33279\n",
            "x, y torch.Size([150, 32]) torch.Size([150, 32])\n",
            "model(x), word_count torch.Size([150, 32, 33279]) 33279\n",
            "x, y torch.Size([150, 32]) torch.Size([150, 32])\n",
            "model(x), word_count torch.Size([150, 32, 33279]) 33279\n",
            "x, y torch.Size([150, 32]) torch.Size([150, 32])\n",
            "model(x), word_count torch.Size([150, 32, 33279]) 33279\n",
            "x, y torch.Size([150, 32]) torch.Size([150, 32])\n",
            "model(x), word_count torch.Size([150, 32, 33279]) 33279\n",
            "x, y torch.Size([150, 32]) torch.Size([150, 32])\n",
            "model(x), word_count torch.Size([150, 32, 33279]) 33279\n",
            "x, y torch.Size([150, 32]) torch.Size([150, 32])\n",
            "model(x), word_count torch.Size([150, 32, 33279]) 33279\n",
            "x, y torch.Size([150, 32]) torch.Size([150, 32])\n",
            "model(x), word_count torch.Size([150, 32, 33279]) 33279\n",
            "x, y torch.Size([150, 32]) torch.Size([150, 32])\n",
            "model(x), word_count torch.Size([150, 32, 33279]) 33279\n",
            "x, y torch.Size([150, 32]) torch.Size([150, 32])\n",
            "model(x), word_count torch.Size([150, 32, 33279]) 33279\n",
            "x, y torch.Size([150, 32]) torch.Size([150, 32])\n",
            "model(x), word_count torch.Size([150, 32, 33279]) 33279\n",
            "x, y torch.Size([150, 32]) torch.Size([150, 32])\n",
            "model(x), word_count torch.Size([150, 32, 33279]) 33279\n",
            "x, y torch.Size([150, 32]) torch.Size([150, 32])\n",
            "model(x), word_count torch.Size([150, 32, 33279]) 33279\n",
            "x, y torch.Size([150, 32]) torch.Size([150, 32])\n",
            "model(x), word_count torch.Size([150, 32, 33279]) 33279\n",
            "x, y torch.Size([150, 32]) torch.Size([150, 32])\n",
            "model(x), word_count torch.Size([150, 32, 33279]) 33279\n",
            "x, y torch.Size([150, 32]) torch.Size([150, 32])\n",
            "model(x), word_count torch.Size([150, 32, 33279]) 33279\n",
            "x, y torch.Size([150, 32]) torch.Size([150, 32])\n",
            "model(x), word_count torch.Size([150, 32, 33279]) 33279\n",
            "x, y torch.Size([150, 32]) torch.Size([150, 32])\n",
            "model(x), word_count torch.Size([150, 32, 33279]) 33279\n",
            "x, y torch.Size([150, 32]) torch.Size([150, 32])\n",
            "model(x), word_count torch.Size([150, 32, 33279]) 33279\n",
            "x, y torch.Size([150, 32]) torch.Size([150, 32])\n",
            "model(x), word_count torch.Size([150, 32, 33279]) 33279\n",
            "x, y torch.Size([150, 32]) torch.Size([150, 32])\n",
            "model(x), word_count torch.Size([150, 32, 33279]) 33279\n",
            "x, y torch.Size([150, 32]) torch.Size([150, 32])\n",
            "model(x), word_count torch.Size([150, 32, 33279]) 33279\n",
            "x, y torch.Size([150, 10]) torch.Size([150, 10])\n",
            "x torch.Size([150, 10])\n",
            "o torch.Size([150, 10, 33279])\n",
            "model(x), word_count torch.Size([150, 10, 33279]) 33279\n",
            "\n",
            "----------------------------------------------------------------------------------------------------\n",
            "| checkpoint | epoch   0 | time: 11.74s | validation loss 10.42 | validation perplexity 33425.81\n",
            "----------------------------------------------------------------------------------------------------\n",
            "epoch\t\tms/batch\tlr\tloss\tperplexity\n",
            "  0 (11.5%)\t755.83\t\t0.0001\t 9.08\t 8788.37\n",
            "  0 (22.9%)\t756.91\t\t0.0001\t 7.67\t 2134.03\n",
            "  0 (34.4%)\t758.37\t\t0.0001\t 7.20\t 1333.14\n",
            "  0 (45.9%)\t759.30\t\t0.0001\t 7.03\t 1124.92\n",
            "  0 (57.3%)\t760.90\t\t0.0001\t 6.97\t 1061.53\n",
            "  0 (68.8%)\t760.00\t\t0.0001\t 6.92\t 1012.27\n",
            "  0 (80.3%)\t758.96\t\t0.0001\t 6.84\t  938.08\n",
            "  0 (91.7%)\t759.50\t\t0.0001\t 6.85\t  947.59\n",
            "x torch.Size([150, 4])\n",
            "o torch.Size([150, 4, 33279])\n"
          ],
          "name": "stdout"
        },
        {
          "output_type": "error",
          "ename": "RuntimeError",
          "evalue": "ignored",
          "traceback": [
            "\u001b[0;31m---------------------------------------------------------------------------\u001b[0m",
            "\u001b[0;31mRuntimeError\u001b[0m                              Traceback (most recent call last)",
            "\u001b[0;32m<ipython-input-7-dd4c5621ee00>\u001b[0m in \u001b[0;36m<module>\u001b[0;34m()\u001b[0m\n\u001b[1;32m     43\u001b[0m             \u001b[0mx\u001b[0m\u001b[0;34m,\u001b[0m \u001b[0my\u001b[0m \u001b[0;34m=\u001b[0m \u001b[0mx\u001b[0m\u001b[0;34m.\u001b[0m\u001b[0mpermute\u001b[0m\u001b[0;34m(\u001b[0m\u001b[0;36m1\u001b[0m\u001b[0;34m,\u001b[0m\u001b[0;36m0\u001b[0m\u001b[0;34m)\u001b[0m\u001b[0;34m.\u001b[0m\u001b[0mto\u001b[0m\u001b[0;34m(\u001b[0m\u001b[0mdevice\u001b[0m\u001b[0;34m)\u001b[0m\u001b[0;34m,\u001b[0m \u001b[0my\u001b[0m\u001b[0;34m.\u001b[0m\u001b[0mpermute\u001b[0m\u001b[0;34m(\u001b[0m\u001b[0;36m1\u001b[0m\u001b[0;34m,\u001b[0m\u001b[0;36m0\u001b[0m\u001b[0;34m)\u001b[0m\u001b[0;34m.\u001b[0m\u001b[0mto\u001b[0m\u001b[0;34m(\u001b[0m\u001b[0mdevice\u001b[0m\u001b[0;34m)\u001b[0m\u001b[0;34m\u001b[0m\u001b[0;34m\u001b[0m\u001b[0m\n\u001b[1;32m     44\u001b[0m             \u001b[0mmodel\u001b[0m\u001b[0;34m.\u001b[0m\u001b[0mzero_grad\u001b[0m\u001b[0;34m(\u001b[0m\u001b[0;34m)\u001b[0m\u001b[0;34m\u001b[0m\u001b[0;34m\u001b[0m\u001b[0m\n\u001b[0;32m---> 45\u001b[0;31m             \u001b[0myhat\u001b[0m \u001b[0;34m=\u001b[0m \u001b[0mmodel\u001b[0m\u001b[0;34m(\u001b[0m\u001b[0mx\u001b[0m\u001b[0;34m)\u001b[0m\u001b[0;34m.\u001b[0m\u001b[0mview\u001b[0m\u001b[0;34m(\u001b[0m\u001b[0;34m-\u001b[0m\u001b[0;36m1\u001b[0m\u001b[0;34m,\u001b[0m \u001b[0mtrain_data\u001b[0m\u001b[0;34m.\u001b[0m\u001b[0mword_count\u001b[0m\u001b[0;34m(\u001b[0m\u001b[0;34m)\u001b[0m\u001b[0;34m)\u001b[0m\u001b[0;34m\u001b[0m\u001b[0;34m\u001b[0m\u001b[0m\n\u001b[0m\u001b[1;32m     46\u001b[0m             \u001b[0mloss\u001b[0m \u001b[0;34m=\u001b[0m \u001b[0mcriterion\u001b[0m\u001b[0;34m(\u001b[0m\u001b[0myhat\u001b[0m\u001b[0;34m,\u001b[0m \u001b[0my\u001b[0m\u001b[0;34m.\u001b[0m\u001b[0mcontiguous\u001b[0m\u001b[0;34m(\u001b[0m\u001b[0;34m)\u001b[0m\u001b[0;34m.\u001b[0m\u001b[0mview\u001b[0m\u001b[0;34m(\u001b[0m\u001b[0;34m-\u001b[0m\u001b[0;36m1\u001b[0m\u001b[0;34m)\u001b[0m\u001b[0;34m)\u001b[0m\u001b[0;34m\u001b[0m\u001b[0;34m\u001b[0m\u001b[0m\n\u001b[1;32m     47\u001b[0m             \u001b[0mloss\u001b[0m\u001b[0;34m.\u001b[0m\u001b[0mbackward\u001b[0m\u001b[0;34m(\u001b[0m\u001b[0;34m)\u001b[0m\u001b[0;34m\u001b[0m\u001b[0;34m\u001b[0m\u001b[0m\n",
            "\u001b[0;31mRuntimeError\u001b[0m: view size is not compatible with input tensor's size and stride (at least one dimension spans across two contiguous subspaces). Use .reshape(...) instead."
          ]
        }
      ]
    },
    {
      "cell_type": "code",
      "metadata": {
        "id": "hoJQgTYskOPu"
      },
      "source": [
        "print('Restoring best checkpointed model...')\n",
        "with open(save, 'rb') as f:\n",
        "    model = torch.load(f)\n",
        "\n",
        "test_loss = evaluate(test_data)\n",
        "print('=' * 89)\n",
        "print('| end of training | test loss {:5.2f} | test perplexity {:8.2f}'.format(test_loss, math.exp(test_loss)))\n",
        "print('=' * 89)"
      ],
      "execution_count": null,
      "outputs": []
    },
    {
      "cell_type": "code",
      "metadata": {
        "id": "5Kv3A3evkOPw"
      },
      "source": [
        "print('\\nUncurated samples')\n",
        "print('-' * 89)\n",
        "\n",
        "def sample():\n",
        "    words = []\n",
        "    model.eval()\n",
        "    history = torch.randint(train_data.word_count(), (1, 1), dtype=torch.long).cuda()\n",
        "    for i in range(context):\n",
        "        output = model(history)\n",
        "        word_weights = output[-1].squeeze().exp().cpu()\n",
        "        word_idx = torch.multinomial(word_weights, 1)[0]\n",
        "        word_tensor = torch.Tensor([[word_idx]]).long().cuda()\n",
        "        history = torch.cat([history, word_tensor], 0)\n",
        "\n",
        "        words.append(train_data.idx2word[word_idx])\n",
        "\n",
        "    return '\\n'.join(textwrap.wrap(' '.join(words),80))\n",
        "\n",
        "for i in range(5):\n",
        "    print('({})'.format(i), sample())"
      ],
      "execution_count": null,
      "outputs": []
    },
    {
      "cell_type": "code",
      "metadata": {
        "id": "wlm9ikGokOPy"
      },
      "source": [
        ""
      ],
      "execution_count": null,
      "outputs": []
    }
  ]
}